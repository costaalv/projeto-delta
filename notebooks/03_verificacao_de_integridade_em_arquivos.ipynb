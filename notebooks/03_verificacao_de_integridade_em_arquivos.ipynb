{
 "cells": [
  {
   "cell_type": "markdown",
   "metadata": {
    "id": "5TkGUnRLRxLA"
   },
   "source": [
    "# 03 — Verificação e Cifragem de Arquivos com a Cifra de Integridade Primal (CIP)\n",
    "\n",
    "Este notebook demonstra como aplicar o **CIP — Cifra de Integridade Primal** para autenticar, cifrar e verificar arquivos reais, incluindo textos extensos e PDFs. A segurança é garantida **estruturalmente**, sem depender de segredos ou chaves privadas.\n",
    "\n",
    "---"
   ]
  },
  {
   "cell_type": "code",
   "execution_count": 7,
   "metadata": {},
   "outputs": [],
   "source": [
    "#!pip instal cip"
   ]
  },
  {
   "cell_type": "code",
   "execution_count": 1,
   "metadata": {},
   "outputs": [
    {
     "data": {
      "text/plain": [
       "['__all__',\n",
       " '__builtins__',\n",
       " '__cached__',\n",
       " '__doc__',\n",
       " '__file__',\n",
       " '__loader__',\n",
       " '__name__',\n",
       " '__package__',\n",
       " '__path__',\n",
       " '__spec__',\n",
       " '_core',\n",
       " '_internals',\n",
       " 'assinar',\n",
       " 'cifrar',\n",
       " 'decifrar',\n",
       " 'verificar']"
      ]
     },
     "execution_count": 1,
     "metadata": {},
     "output_type": "execute_result"
    }
   ],
   "source": [
    "import cip\n",
    "dir(cip)\n"
   ]
  },
  {
   "cell_type": "markdown",
   "metadata": {},
   "source": [
    "## Funções auxiliares\n",
    "\n",
    "### `delta_pi(x)`\n",
    "\n",
    "Calcula a diferença entre a quantidade de primos até `x` e o dobro dos primos até `x/2`. Essa função captura a **estrutura dual dos primos** e é a base espectral de todo o sistema.\n",
    "\n",
    "```python\n",
    "def delta_pi(x):\n",
    "    def pi(n):\n",
    "        return len(list(primerange(1, n + 1)))\n",
    "    return pi(x) - 2 * pi(x // 2)\n",
    "```\n",
    "\n",
    "### `construct_cosine_matrix(x, size)`\n",
    "\n",
    "Constrói a matriz harmônica usada como base de projeção vetorial, a partir dos valores absolutos de `delta_pi`.\n",
    "\n",
    "```python\n",
    "def construct_cosine_matrix(x, size):\n",
    "    delta_vals = [delta_pi(i) for i in range(x, x + size)]\n",
    "    matrix = np.zeros((size, size))\n",
    "    for i in range(size):\n",
    "        for j in range(size):\n",
    "            matrix[i, j] = np.cos(delta_vals[i] * log(x + j))\n",
    "    return (matrix + matrix.T) / 2\n",
    "```\n",
    "\n",
    "### Cifragem vetorial por blocos\n",
    "`cip_cifrar_blocos_bytes(...)`\n",
    "Lê qualquer arquivo, divide em blocos de tamanho fixo, projeta cada bloco vetorialmente e salva os vetores cifrados e seus metadados em um arquivo `.npz`.\n",
    "\n",
    "```python\n",
    "def cip_cifrar_blocos_bytes(arquivo_entrada, x=7213, size=1024):\n",
    "    ...\n",
    "```\n",
    "### Assinatura vetorial\n",
    "`cip_assinar_bloco_bytes(...)`  \n",
    "Assina cada bloco pela projeção na base vetorial e aplicação de SHA-256. A assinatura é estrutural e posicional.\n",
    "\n",
    "### Decifragem\n",
    "`cip_decifrar_blocos_bytes(...)`  \n",
    "Reconstrói o texto original a partir da projeção inversa, com fidelidade absoluta se os blocos não foram alterados.\n",
    "\n",
    "### Verificação de integridade\n",
    "`cip_verificar_bloco_bytes(...)`  \n",
    "Verifica se os blocos atuais ressoam com as assinaturas vetoriais originais. Retorna o número de blocos alterados.  \n",
    "<br>\n",
    "**Vamos agora aplicar essas funções passo a passo para testar a integridade de arquivos reais.**"
   ]
  },
  {
   "cell_type": "markdown",
   "metadata": {
    "id": "4gORz7eDU_W6"
   },
   "source": [
    "## Exemplo com poema de Fernando Pessoa\n",
    "Para demonstrar a cifragem, assinatura, verificação e decodificação com a Cifra de Integridade Primal (CIP), utilizaremos um trecho do poema \"Tabacaria\", de Fernando Pessoa (heterônimo Álvaro de Campos):\n",
    "```\n",
    "Não sou nada.  \n",
    "Nunca serei nada.  \n",
    "Não posso querer ser nada.  \n",
    "À parte isso, tenho em mim todos os sonhos do mundo.\n",
    "```\n",
    "Esse texto será:\n",
    "\n",
    "1. Codificado em blocos de tamanho 1024;\n",
    "\n",
    "2. Cifrado vetorialmente usando a base espectral derivada de $|\\Delta_\\pi(x)|$;\n",
    "\n",
    "3. Assinado por projeção espectral e hash SHA-256;\n",
    "\n",
    "4. Verificado quanto à integridade estrutural;\n",
    "\n",
    "5. Decodificado e reconstituído com fidelidade total."
   ]
  },
  {
   "cell_type": "code",
   "execution_count": 2,
   "metadata": {},
   "outputs": [],
   "source": [
    "# --- Projeção e assinatura ---\n",
    "def projetar_vetor(base, vetor):\n",
    "    base_inv = np.linalg.pinv(base)\n",
    "    return base @ (base_inv @ vetor)\n",
    "\n",
    "def assinar_vetor(projecao):\n",
    "    return hashlib.sha256(projecao.astype(np.float32).tobytes()).hexdigest()\n"
   ]
  },
  {
   "cell_type": "code",
   "execution_count": 4,
   "metadata": {
    "colab": {
     "base_uri": "https://localhost:8080/"
    },
    "executionInfo": {
     "elapsed": 7898,
     "status": "ok",
     "timestamp": 1747151693179,
     "user": {
      "displayName": "Alvaro Costa",
      "userId": "16897388548353043515"
     },
     "user_tz": 180
    },
    "id": "vzwe1hDwWIIA",
    "outputId": "e5d414e2-6f2e-4d5e-c652-0f669e779a50"
   },
   "outputs": [
    {
     "name": "stdout",
     "output_type": "stream",
     "text": [
      "\n",
      "Offset usado: 676952\n",
      "Verificação: 0 blocos alterados em 1\n",
      "\n",
      "Texto original:\n",
      "Não sou nada.\n",
      "Nunca serei nada.\n",
      "Não posso querer ser nada.\n",
      "À parte isso, tenho em mim todos os sonhos do mundo.\n",
      "\n",
      "Texto decifrado:\n",
      "Não sou nada.\n",
      "Nunca serei nada.\n",
      "Não posso querer ser nada.\n",
      "À parte isso, tenho em mim todos os sonhos do mundo.\n",
      "CPU times: user 10.8 s, sys: 546 ms, total: 11.3 s\n",
      "Wall time: 8.85 s\n"
     ]
    }
   ],
   "source": [
    "%%time\n",
    "import cip\n",
    "\n",
    "# --- Texto original ---\n",
    "texto = \"\"\"Não sou nada.\n",
    "Nunca serei nada.\n",
    "Não posso querer ser nada.\n",
    "À parte isso, tenho em mim todos os sonhos do mundo.\"\"\"\n",
    "\n",
    "dados = texto.encode(\"utf-8\")\n",
    "\n",
    "# --- Cifragem com offset aleatório (padrão) ---\n",
    "pacote = cip.cifrar(dados)  # offset será escolhido automaticamente\n",
    "\n",
    "# --- Assinatura com os mesmos parâmetros (padrão) ---\n",
    "assinaturas, chave = cip.assinar(dados, offset=pacote[\"offset\"])\n",
    "\n",
    "# --- Verificação da integridade espectral ---\n",
    "alterados, total = cip.verificar(dados, assinaturas, offset=chave[\"offset\"])\n",
    "print(f\"\\nOffset usado: {chave['offset']}\")\n",
    "print(f\"Verificação: {alterados} blocos alterados em {total}\")\n",
    "\n",
    "# --- Decifração do pacote cifrado ---\n",
    "recuperado = cip.decifrar(pacote)\n",
    "texto_recuperado = recuperado.rstrip(b'\\x00').decode(\"utf-8\")\n",
    "\n",
    "# --- Resultados ---\n",
    "print(\"\\nTexto original:\")\n",
    "print(texto)\n",
    "\n",
    "print(\"\\nTexto decifrado:\")\n",
    "print(texto_recuperado)\n"
   ]
  },
  {
   "cell_type": "markdown",
   "metadata": {
    "id": "IE3FhuVcW8EW"
   },
   "source": [
    "## Poema cifrado — Integridade vetorial com Pessoa\n",
    "\n",
    "Este experimento demonstra, passo a passo, a aplicação da **Cifra de Integridade Primal (CIP)** sobre um trecho poético de Fernando Pessoa.  \n",
    "A operação não depende de chaves, criptografia clássica ou fatores ocultos.  \n",
    "Tudo é baseado na estrutura primal dos números primos — e em sua música espectral registrada por $\\Delta_\\pi(x)$.\n",
    "\n",
    "---\n",
    "\n",
    "### Etapas realizadas no código abaixo:\n",
    "\n",
    "1. **Extrai a base harmônica** a partir da estrutura primal dos primos, usando o vetor $\\Delta_\\pi(x)$;\n",
    "\n",
    "2. **Codifica o poema** como um vetor numérico de dimensão fixa;\n",
    "\n",
    "3. **Projeta o vetor dos dados** na base espectral derivada de $\\Delta_\\pi(x)$;\n",
    "\n",
    "4. **Calcula a assinatura SHA-256** da projeção vetorial (não dos dados crus);\n",
    "\n",
    "5. **Reconstrói o texto original** a partir da projeção (via base invertida);\n",
    "\n",
    "6. Exibe o **texto original**, o **texto reconstruído** e a **assinatura vetorial**.\n",
    "\n",
    "---\n",
    "\n",
    "Mesmo uma inversão de **1 único bit** no poema destruiria a assinatura, revelando a **sensibilidade espectral** da CIP.\n",
    "\n",
    "> A integridade aqui não é binária — é harmônica.\n"
   ]
  },
  {
   "cell_type": "markdown",
   "metadata": {
    "id": "YIWYNS_nYV-J"
   },
   "source": [
    "## Sensibilidade estrutural — um único espaço muda tudo\n",
    "Vamos alterar discretamente o texto original inserindo um único espaço ao final e comparar os vetores projetados e suas assinaturas."
   ]
  },
  {
   "cell_type": "code",
   "execution_count": 6,
   "metadata": {
    "colab": {
     "base_uri": "https://localhost:8080/",
     "height": 442
    },
    "executionInfo": {
     "elapsed": 1618,
     "status": "ok",
     "timestamp": 1747152159653,
     "user": {
      "displayName": "Alvaro Costa",
      "userId": "16897388548353043515"
     },
     "user_tz": 180
    },
    "id": "2Zc_KdXdYai1",
    "outputId": "eb00cbaa-acdd-4692-8343-850c7823a33e"
   },
   "outputs": [
    {
     "name": "stdout",
     "output_type": "stream",
     "text": [
      "\n",
      "Verificação: 1 blocos alterados em 1\n",
      "Bit invertido na posição 45\n"
     ]
    },
    {
     "data": {
      "image/png": "[encoded data removed]",
      "text/plain": [
       "<Figure size 1200x400 with 1 Axes>"
      ]
     },
     "metadata": {},
     "output_type": "display_data"
    },
    {
     "name": "stdout",
     "output_type": "stream",
     "text": [
      "\n",
      "Assinatura original : fca2e8d484dba7f608a5316c06544640a850b2070d00f29a9fc27bed3fbb1dc2\n",
      "Assinatura corrompida: d8129be884ff037c4a23a784c9bbdfc57c031e416ad26ca95b7a4c5108e1c0e1\n",
      "CPU times: user 11 s, sys: 514 ms, total: 11.6 s\n",
      "Wall time: 9.11 s\n"
     ]
    }
   ],
   "source": [
    "%%time\n",
    "import numpy as np\n",
    "import matplotlib.pyplot as plt\n",
    "import hashlib\n",
    "import random\n",
    "import cip\n",
    "\n",
    "# Texto original\n",
    "dados = texto.encode(\"utf-8\")\n",
    "\n",
    "# --- Cifrar com offset fixo (para consistência) ---\n",
    "offset = 2_000_000\n",
    "pacote = cip.cifrar(dados, offset=offset)\n",
    "assinaturas, chave = cip.assinar(dados, offset=offset)\n",
    "\n",
    "# --- Inverter 1 bit aleatório no dado original ---\n",
    "dados_corrompidos = bytearray(dados)\n",
    "pos = random.randint(0, len(dados_corrompidos) - 1)\n",
    "dados_corrompidos[pos] ^= 0b00000001\n",
    "\n",
    "# --- Verificar os dados corrompidos ---\n",
    "alterados, total = cip.verificar(bytes(dados_corrompidos), assinaturas, offset=offset)\n",
    "print(f\"\\nVerificação: {alterados} blocos alterados em {total}\")\n",
    "print(f\"Bit invertido na posição {pos}\")\n",
    "\n",
    "# --- Decifrar vetores projetados diretamente ---\n",
    "from cip._internals import _carregar_delta_pi, _construir_matriz_cossenos, _codificar_bloco\n",
    "from numpy.linalg import eigh, pinv\n",
    "\n",
    "delta_array = _carregar_delta_pi()\n",
    "size = chave[\"size\"]\n",
    "F = delta_array[offset:offset + size]\n",
    "x = np.arange(5_000_000 + offset, 5_000_000 + offset + size)\n",
    "C = _construir_matriz_cossenos(F, x)\n",
    "_, autovetores = eigh(C)\n",
    "base = autovetores[:, -size:]\n",
    "base_inv = pinv(base)\n",
    "\n",
    "proj_orig = base_inv @ _codificar_bloco(dados, size)\n",
    "proj_corr = base_inv @ _codificar_bloco(bytes(dados_corrompidos), size)\n",
    "\n",
    "# Assinaturas vetoriais\n",
    "hash_orig = hashlib.sha256(proj_orig.astype(np.float32).tobytes()).hexdigest()\n",
    "hash_corr = hashlib.sha256(proj_corr.astype(np.float32).tobytes()).hexdigest()\n",
    "\n",
    "# --- Plotagem das projeções ---\n",
    "plt.figure(figsize=(12, 4))\n",
    "plt.plot(proj_orig, label=\"Original\", linestyle='-', marker='o')\n",
    "plt.plot(proj_corr, label=\"Com 1 bit alterado\", linestyle='--', marker='x')\n",
    "plt.title(\"Comparação espectral: vetor original vs. corrompido\")\n",
    "plt.xlabel(\"Índice espectral\")\n",
    "plt.ylabel(\"Amplitude\")\n",
    "plt.legend()\n",
    "plt.grid(True)\n",
    "plt.tight_layout()\n",
    "plt.show()\n",
    "\n",
    "# --- Mostra assinaturas ---\n",
    "print(\"\\nAssinatura original :\", hash_orig)\n",
    "print(\"Assinatura corrompida:\", hash_corr)\n"
   ]
  },
  {
   "cell_type": "markdown",
   "metadata": {
    "id": "v8DEjiSTZKdm"
   },
   "source": [
    "## Um único bit mudou — e tudo se transformou\n",
    "\n",
    "### O que isso mostra?\n",
    "\n",
    "- **A curva alterada parece quase idêntica** à original.\n",
    "\n",
    "- **Mas a assinatura muda completamente**, porque:\n",
    "\n",
    "  - A projeção vetorial **não perdoa incoerência estrutural**.\n",
    "\n",
    "  - A função SHA-256 aplicada sobre o vetor projetado gera uma **identidade única, sensível à forma**.\n",
    "\n",
    "---\n",
    "\n",
    "### Conclusão\n",
    "\n",
    "> A CIP não detecta o que foi alterado — ele detecta que **a forma deixou de ressoar**.\n",
    "\n",
    "Mesmo uma mutação microscópica — como um espaço em branco — rompe a coerência harmônica e gera outra assinatura.\n",
    "\n",
    "Esse é o coração da integridade espectral proposta pelo Projeto DELTA.\n",
    "\n",
    "---\n",
    "\n",
    "### Um único byte muda tudo\n",
    "\n",
    "A **projeção vetorial espectral** é tão sensível à forma que **um espaço invisível ao olho** causa **uma assinatura completamente distinta**.\n",
    "\n",
    "Isso significa que a **CIP (Cifra de Integridade Primal)** pode:\n",
    "\n",
    "- Detectar **qualquer mutação**, mesmo a mais sutil;\n",
    "\n",
    "- **Operar sem chave, sem criptografia, sem encriptação**;\n",
    "\n",
    "- Garantir **autenticidade vetorial absoluta**, baseada em **forma harmônica**, não em conteúdo.\n",
    "\n",
    "---\n",
    "\n",
    "### Do ponto de vista de bancos e sistemas financeiros:\n",
    "\n",
    "A **verificação de integridade** se torna:\n",
    "\n",
    "- Local  \n",
    "- Vetorial  \n",
    "- Independente de certificados digitais  \n",
    "- Inviolável mesmo sob ataques quânticos  \n",
    "- Auditável por bloco, com rastreabilidade total\n",
    "\n",
    "Em sistemas com milhares de documentos, contratos, PDFs, logs ou mensagens, isso representa:\n",
    "\n",
    "- Verificações mais rápidas e precisas  \n",
    "- Garantia estrutural, mesmo em ambientes distribuídos e offline  \n",
    "- Segurança sem segredo — porque o que se valida é a forma espectral do conteúdo\n",
    "\n",
    "---\n",
    "\n",
    "### Em resumo\n",
    "\n",
    "A pergunta certa não é “por que usar isso?”, mas:\n",
    "\n",
    "> **Como ainda não usávamos isso?**\n",
    "\n",
    "A beleza é que a CIP oferece uma resposta concreta a um problema fundamental —  \n",
    "com rigor matemático, simplicidade estrutural e imunidade quântica embutida.\n",
    "\n",
    "---\n",
    "\n",
    "## Por que a CIP não usa criptografia tradicional — e por que isso é melhor\n",
    "\n",
    "### 1. Sem chave secreta\n",
    "\n",
    "- Em criptografia clássica, há sempre uma chave: simétrica, assimétrica, curva elíptica, etc.\n",
    "\n",
    "- Na CIP, **não há chave**.\n",
    "\n",
    "- O conteúdo é projetado em uma **base vetorial fixa e pública**, derivada da estrutura primal dos números primos.\n",
    "\n",
    "- **Segurança não vem do segredo da chave — vem da fidelidade da forma**.\n",
    "\n",
    "---\n",
    "\n",
    "### 2. Sem encriptação\n",
    "\n",
    "- A CIP **não embaralha os dados** como AES, RSA ou outras cifras.\n",
    "\n",
    "- Ele **projeta o conteúdo em uma base harmônica**.\n",
    "\n",
    "- Esse vetor projetado **parece ruído puro** para qualquer observador externo.\n",
    "\n",
    "- Só pode ser decodificado por quem possui **exatamente a mesma base** usada na cifragem — **não semelhante, não próxima — idêntica**.\n",
    "\n",
    "---\n",
    "\n",
    "### 3. Sem possibilidade de decodificação parcial\n",
    "\n",
    "- Se alguém tentar decifrar com uma base incorreta (mesmo com variação mínima), o resultado é ruído espectral.\n",
    "\n",
    "- **Não há “ataques por aproximação”**. Não existe “decriptar parcialmente”.\n",
    "\n",
    "- Ou você tem a base certa — ou você não ouve nada além de ruído.\n",
    "\n",
    "---\n",
    "\n",
    "## E por que isso é melhor?\n",
    "\n",
    "- **Mais leve**: vetores e matrizes são lineares, rápidos e altamente paralelizáveis\n",
    "\n",
    "- **Mais seguro**: a proteção está na **estrutura** — e não em segredos que podem vazar\n",
    "\n",
    "- **À prova de quântica**: não há fatoração, logaritmos, curvas. Nada a quebrar\n",
    "\n",
    "- **Auditável**: cada bloco tem sua própria assinatura vetorial, independente\n",
    "\n",
    "---\n",
    "\n",
    "> A criptografia tenta esconder o conteúdo.  \n",
    ">  \n",
    "> A CIP simplesmente o **projeta na estrutura dos próprios primos** — e só revela a quem sabe escutar.\n"
   ]
  },
  {
   "cell_type": "markdown",
   "metadata": {
    "id": "LGnx0n2QhvUZ"
   },
   "source": [
    "## A CIP não usa criptografia tradicional — e isso é uma vantagem\n",
    "\n",
    "A **CIP (Cifra de Integridade Primal)** não depende de encriptação, chave privada ou função secreta.  \n",
    "Isso **não é uma limitação** — é um avanço conceitual e técnico.\n",
    "\n",
    "Abaixo, comparamos as abordagens:\n",
    "\n",
    "| Aspecto                       | Criptografia Tradicional        | CIP — Cifra de Integridade Primal             |\n",
    "|------------------------------|----------------------------------|-----------------------------------------------|\n",
    "| **Chave secreta**            | Sim (simétrica ou assimétrica)  | **Não**                                       |\n",
    "| **Encriptação do conteúdo**  | Sim (gera um texto cifrado)     | **Não** — apenas projeção vetorial            |\n",
    "| **Base de segurança**        | Dificuldade computacional       | **Coerência estrutural**                      |\n",
    "| **Resistência à quântica**   | Vulnerável (ex: RSA, ECC)       | **Total** — nada a ser quebrado               |\n",
    "| **Reversibilidade parcial**  | Pode vazar parcialmente         | **Não há leitura parcial sem a base correta** |\n",
    "| **Verificação de integridade** | Complexa, depende de protocolo | **Bloco a bloco, via forma espectral**        |\n",
    "| **Desempenho**               | Alto custo para grandes arquivos| **Leve, vetorial, paralelizável**             |\n",
    "\n",
    "---\n",
    "\n",
    "## Por que isso importa\n",
    "\n",
    "- **Sem segredo, sem chave**: não há nada para interceptar ou roubar.\n",
    "- **Segurança por estrutura**: a fidelidade à base harmônica é o critério de integridade.\n",
    "- **Impossível de decodificar parcialmente**: qualquer alteração gera ruído espectral.\n",
    "- **Assinatura vetorial hipersensível**: detecta até mutações invisíveis.\n",
    "- **Funciona com texto, binário, PDF, imagens, código** — qualquer coisa com bytes.\n",
    "\n",
    "---\n",
    "\n",
    "> **A CIP não esconde.**  \n",
    "> Ela projeta — e escuta.  \n",
    ">  \n",
    "> Se a forma ressoar, o conteúdo é autêntico.  \n",
    "> Se não ressoar, é ruído.\n",
    "\n",
    "## Encerramento\n",
    "\n",
    "A **CIP** é uma forma nova de escutar a integridade dos dados —  \n",
    "não pela criptografia, mas pela coerência com a estrutura primal dos primos.\n",
    "\n",
    "> A segurança não vem do que se esconde,  \n",
    "> mas do que ressoa.\n",
    "\n",
    "---\n",
    "\n",
    "**Projeto DELTA**  \n",
    "*Rede Dual de Autovalores para Aritmética Transformativa*  \n",
    "<sub>Dual Eigenvalue Lattice for Transformative Arithmetic</sub>\n"
   ]
  }
 ],
 "metadata": {
  "colab": {
   "authorship_tag": "ABX9TyMGHAZidmqsVd7/a7NlxIgY",
   "provenance": []
  },
  "kernelspec": {
   "display_name": "Python 3 (ipykernel)",
   "language": "python",
   "name": "python3"
  },
  "language_info": {
   "codemirror_mode": {
    "name": "ipython",
    "version": 3
   },
   "file_extension": ".py",
   "mimetype": "text/x-python",
   "name": "python",
   "nbconvert_exporter": "python",
   "pygments_lexer": "ipython3",
   "version": "3.12.2"
  }
 },
 "nbformat": 4,
 "nbformat_minor": 4
}
